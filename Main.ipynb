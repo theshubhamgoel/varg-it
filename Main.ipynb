{
 "cells": [
  {
   "cell_type": "code",
   "execution_count": 4,
   "metadata": {},
   "outputs": [
    {
     "name": "stdout",
     "output_type": "stream",
     "text": [
      "Welcome\n"
     ]
    }
   ],
   "source": [
    "print(\"Welcome\")"
   ]
  },
  {
   "cell_type": "code",
   "execution_count": 25,
   "metadata": {},
   "outputs": [],
   "source": [
    "import requests\n",
    "from bs4 import BeautifulSoup, SoupStrainer\n",
    "\n",
    "import warnings\n",
    "#warnings.filterwarnings(\"ignore\", category=UserWarning, module='bs4')\n",
    "\n",
    "def get_list_of_questions_url(base_url, questions_link):\n",
    "    #get page dom\n",
    "    #http://docs.python-requests.org/en/master/\n",
    "    response = requests.get(questions_link)\n",
    "    \n",
    "    #https://www.crummy.com/software/BeautifulSoup/bs4/doc/\n",
    "    soup = BeautifulSoup(response.content, \"lxml\",  parse_only=SoupStrainer(\"a\", href=True))\n",
    "\n",
    "    list = []\n",
    "    for link in soup('a'):\n",
    "        actualTag = link['href']\n",
    "        if(\"problems\" not in actualTag):\n",
    "            continue\n",
    "\n",
    "        if(actualTag.startswith(\"/\")):\n",
    "            actualTag = base_url + actualTag\n",
    "\n",
    "        if(actualTag.endswith(\"/\")):\n",
    "            actualTag = actualTag[:-1]\n",
    "            \n",
    "        #print(\"\\n \",actualTag)\n",
    "        list.append(actualTag)\n",
    "    \n",
    "    return list \n",
    "    \n",
    "def aggregate_all_questions_url():      \n",
    "    WEBSITE_BASE_URL = \"https://www.codechef.com\"\n",
    "    QUESTIONS_LIST_URLS = [\"https://www.codechef.com/problems/school\",\n",
    "                 \"https://www.codechef.com/problems/easy\", \n",
    "                 \"https://www.codechef.com/problems/medium\",\n",
    "                 \"https://www.codechef.com/problems/hard\",\n",
    "                 \"https://www.codechef.com/problems/challenge\",\n",
    "                 \"https://www.codechef.com/problems/extcontest\"]\n",
    "    \n",
    "    SKIP_EXTRA_URLS = QUESTIONS_LIST_URLS[:]\n",
    "    SKIP_EXTRA_URLS.append(\"http://www.codechef.com/problemsetting\")\n",
    "    \n",
    "    global list_of_problems_url\n",
    "    for url in QUESTIONS_LIST_URLS[:-5]:\n",
    "        list_of_problems_url += get_list_of_questions_url(WEBSITE_BASE_URL, url)\n",
    "      \n",
    "    #removing extra links\n",
    "    for question_url in SKIP_EXTRA_URLS:\n",
    "        list_of_problems_url = [url for url in list_of_problems_url if url != question_url]\n",
    "        \n",
    "    print(len(list_of_problems_url))\n",
    "    #print(list_of_problems_url)\n"
   ]
  },
  {
   "cell_type": "code",
   "execution_count": 32,
   "metadata": {},
   "outputs": [
    {
     "name": "stdout",
     "output_type": "stream",
     "text": [
      "163\n"
     ]
    }
   ],
   "source": [
    "list_of_problems_url = []\n",
    "aggregate_all_questions_url()\n"
   ]
  },
  {
   "cell_type": "code",
   "execution_count": 51,
   "metadata": {},
   "outputs": [],
   "source": [
    "import os\n",
    "\n",
    "if not os.path.exists(\"tmp\"):\n",
    "    os.makedirs(\"tmp\")\n",
    "    \n",
    "def save_to_file(path, content):\n",
    "    file = open(path , 'w')\n",
    "    file.write(content)\n",
    "    file.close()\n",
    "    print(\"File saved : \", path)"
   ]
  },
  {
   "cell_type": "code",
   "execution_count": 54,
   "metadata": {},
   "outputs": [
    {
     "name": "stdout",
     "output_type": "stream",
     "text": [
      "File saved :  tmp/H1.txt\n",
      "File saved :  tmp/TRACE.txt\n"
     ]
    }
   ],
   "source": [
    "import time\n",
    "\n",
    "#process each url to extract features\n",
    "for url in list_of_problems_url[:2]:\n",
    "    #Careful don't call it without sleep, DDOS\n",
    "    time.sleep(.5)\n",
    "    response = requests.get(url)\n",
    "    soup = BeautifulSoup(response.content, \"lxml\")\n",
    "    content = soup.find(\"div\", {\"id\": \"problem-page\"})\n",
    "    #print(content)\n",
    "    filename = \"tmp\" + url[url.rfind(\"/\"):] + \".txt\"\n",
    "    save_to_file(filename, content.text)\n",
    "    "
   ]
  }
 ],
 "metadata": {
  "kernelspec": {
   "display_name": "Python 3",
   "language": "python",
   "name": "python3"
  },
  "language_info": {
   "codemirror_mode": {
    "name": "ipython",
    "version": 3
   },
   "file_extension": ".py",
   "mimetype": "text/x-python",
   "name": "python",
   "nbconvert_exporter": "python",
   "pygments_lexer": "ipython3",
   "version": "3.6.5"
  }
 },
 "nbformat": 4,
 "nbformat_minor": 2
}
