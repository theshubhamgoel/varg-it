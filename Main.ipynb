{
 "cells": [
  {
   "cell_type": "code",
   "execution_count": 1,
   "metadata": {},
   "outputs": [
    {
     "name": "stdout",
     "output_type": "stream",
     "text": [
      "Welcome\n"
     ]
    }
   ],
   "source": [
    "print(\"Welcome\")"
   ]
  },
  {
   "cell_type": "code",
   "execution_count": 12,
   "metadata": {},
   "outputs": [
    {
     "name": "stdout",
     "output_type": "stream",
     "text": [
      "1990\n"
     ]
    }
   ],
   "source": [
    "import requests\n",
    "from bs4 import BeautifulSoup, SoupStrainer\n",
    "\n",
    "import warnings\n",
    "#warnings.filterwarnings(\"ignore\", category=UserWarning, module='bs4')\n",
    "\n",
    "def get_list_of_questions(base_url, questions_link):\n",
    "    #get page dom\n",
    "    response = requests.get(questions_link)\n",
    "    \n",
    "    #https://www.crummy.com/software/BeautifulSoup/bs4/doc/\n",
    "    soup = BeautifulSoup(response.content, \"lxml\",  parse_only=SoupStrainer(\"a\", href=True))\n",
    "\n",
    "    list = []\n",
    "    for link in soup('a'):\n",
    "        actualTag = link['href']\n",
    "        if(\"problems\" not in actualTag):\n",
    "            continue\n",
    "\n",
    "        if(actualTag.startswith(\"/\")):\n",
    "            actualTag = base_url + actualTag\n",
    "\n",
    "        if(actualTag.endswith(\"/\")):\n",
    "            actualTag = actualTag[:-1]\n",
    "            \n",
    "        #print(\"\\n \",actualTag)\n",
    "        list.append(actualTag)\n",
    "    \n",
    "    return list\n",
    "        \n",
    "def main():        \n",
    "    WEBSITE_BASE_URL = \"https://www.codechef.com\"\n",
    "    QUESTIONS_LIST_URLS = [\"https://www.codechef.com/problems/school\",\n",
    "                 \"https://www.codechef.com/problems/easy\", \n",
    "                 \"https://www.codechef.com/problems/medium\",\n",
    "                 \"https://www.codechef.com/problems/hard\",\n",
    "                 \"https://www.codechef.com/problems/challenge\"]\n",
    "    \n",
    "    list_of_problems = []\n",
    "    for url in QUESTIONS_LIST_URLS:\n",
    "        list_of_problems += get_list_of_questions(WEBSITE_BASE_URL, url)\n",
    "      \n",
    "    #removing extra links\n",
    "    for url in QUESTIONS_LIST_URLS:\n",
    "        list_of_problems = [value for value in list_of_problems if value != url]\n",
    "        \n",
    "    print(len(list_of_problems))\n",
    "    #print(list_of_problems)\n",
    "\n",
    "main()"
   ]
  },
  {
   "cell_type": "code",
   "execution_count": null,
   "metadata": {},
   "outputs": [],
   "source": []
  }
 ],
 "metadata": {
  "kernelspec": {
   "display_name": "Python 3",
   "language": "python",
   "name": "python3"
  },
  "language_info": {
   "codemirror_mode": {
    "name": "ipython",
    "version": 3
   },
   "file_extension": ".py",
   "mimetype": "text/x-python",
   "name": "python",
   "nbconvert_exporter": "python",
   "pygments_lexer": "ipython3",
   "version": "3.6.5"
  }
 },
 "nbformat": 4,
 "nbformat_minor": 2
}
